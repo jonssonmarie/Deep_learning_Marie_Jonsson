{
 "cells": [
  {
   "cell_type": "code",
   "execution_count": 19,
   "metadata": {},
   "outputs": [
    {
     "data": {
      "text/html": [
       "<div>\n",
       "<style scoped>\n",
       "    .dataframe tbody tr th:only-of-type {\n",
       "        vertical-align: middle;\n",
       "    }\n",
       "\n",
       "    .dataframe tbody tr th {\n",
       "        vertical-align: top;\n",
       "    }\n",
       "\n",
       "    .dataframe thead th {\n",
       "        text-align: right;\n",
       "    }\n",
       "</style>\n",
       "<table border=\"1\" class=\"dataframe\">\n",
       "  <thead>\n",
       "    <tr style=\"text-align: right;\">\n",
       "      <th></th>\n",
       "      <th>mpg</th>\n",
       "      <th>cylinders</th>\n",
       "      <th>displacement</th>\n",
       "      <th>horsepower</th>\n",
       "      <th>weight</th>\n",
       "      <th>acceleration</th>\n",
       "      <th>model_year</th>\n",
       "      <th>origin</th>\n",
       "    </tr>\n",
       "  </thead>\n",
       "  <tbody>\n",
       "    <tr>\n",
       "      <th>0</th>\n",
       "      <td>18.0</td>\n",
       "      <td>8</td>\n",
       "      <td>307.0</td>\n",
       "      <td>130.0</td>\n",
       "      <td>3504</td>\n",
       "      <td>12.0</td>\n",
       "      <td>70</td>\n",
       "      <td>usa</td>\n",
       "    </tr>\n",
       "    <tr>\n",
       "      <th>1</th>\n",
       "      <td>15.0</td>\n",
       "      <td>8</td>\n",
       "      <td>350.0</td>\n",
       "      <td>165.0</td>\n",
       "      <td>3693</td>\n",
       "      <td>11.5</td>\n",
       "      <td>70</td>\n",
       "      <td>usa</td>\n",
       "    </tr>\n",
       "    <tr>\n",
       "      <th>2</th>\n",
       "      <td>18.0</td>\n",
       "      <td>8</td>\n",
       "      <td>318.0</td>\n",
       "      <td>150.0</td>\n",
       "      <td>3436</td>\n",
       "      <td>11.0</td>\n",
       "      <td>70</td>\n",
       "      <td>usa</td>\n",
       "    </tr>\n",
       "    <tr>\n",
       "      <th>3</th>\n",
       "      <td>16.0</td>\n",
       "      <td>8</td>\n",
       "      <td>304.0</td>\n",
       "      <td>150.0</td>\n",
       "      <td>3433</td>\n",
       "      <td>12.0</td>\n",
       "      <td>70</td>\n",
       "      <td>usa</td>\n",
       "    </tr>\n",
       "    <tr>\n",
       "      <th>4</th>\n",
       "      <td>17.0</td>\n",
       "      <td>8</td>\n",
       "      <td>302.0</td>\n",
       "      <td>140.0</td>\n",
       "      <td>3449</td>\n",
       "      <td>10.5</td>\n",
       "      <td>70</td>\n",
       "      <td>usa</td>\n",
       "    </tr>\n",
       "  </tbody>\n",
       "</table>\n",
       "</div>"
      ],
      "text/plain": [
       "    mpg  cylinders  displacement  horsepower  weight  acceleration  \\\n",
       "0  18.0          8         307.0       130.0    3504          12.0   \n",
       "1  15.0          8         350.0       165.0    3693          11.5   \n",
       "2  18.0          8         318.0       150.0    3436          11.0   \n",
       "3  16.0          8         304.0       150.0    3433          12.0   \n",
       "4  17.0          8         302.0       140.0    3449          10.5   \n",
       "\n",
       "   model_year origin  \n",
       "0          70    usa  \n",
       "1          70    usa  \n",
       "2          70    usa  \n",
       "3          70    usa  \n",
       "4          70    usa  "
      ]
     },
     "execution_count": 19,
     "metadata": {},
     "output_type": "execute_result"
    }
   ],
   "source": [
    "import seaborn as sns \n",
    "import pandas as pd \n",
    "import matplotlib.pyplot as plt \n",
    "import numpy as np \n",
    "\n",
    "df = sns.load_dataset(\"mpg\").drop(\"name\", axis = 1)\n",
    "\n",
    "df.head()"
   ]
  },
  {
   "cell_type": "code",
   "execution_count": 20,
   "metadata": {},
   "outputs": [
    {
     "data": {
      "text/plain": [
       "usa       249\n",
       "japan      79\n",
       "europe     70\n",
       "Name: origin, dtype: int64"
      ]
     },
     "execution_count": 20,
     "metadata": {},
     "output_type": "execute_result"
    }
   ],
   "source": [
    "df[\"origin\"].value_counts()"
   ]
  },
  {
   "cell_type": "code",
   "execution_count": 21,
   "metadata": {},
   "outputs": [
    {
     "name": "stdout",
     "output_type": "stream",
     "text": [
      "<class 'pandas.core.frame.DataFrame'>\n",
      "RangeIndex: 398 entries, 0 to 397\n",
      "Data columns (total 8 columns):\n",
      " #   Column        Non-Null Count  Dtype  \n",
      "---  ------        --------------  -----  \n",
      " 0   mpg           398 non-null    float64\n",
      " 1   cylinders     398 non-null    int64  \n",
      " 2   displacement  398 non-null    float64\n",
      " 3   horsepower    392 non-null    float64\n",
      " 4   weight        398 non-null    int64  \n",
      " 5   acceleration  398 non-null    float64\n",
      " 6   model_year    398 non-null    int64  \n",
      " 7   origin        398 non-null    object \n",
      "dtypes: float64(4), int64(3), object(1)\n",
      "memory usage: 25.0+ KB\n"
     ]
    }
   ],
   "source": [
    "df.info()"
   ]
  },
  {
   "cell_type": "code",
   "execution_count": 22,
   "metadata": {},
   "outputs": [
    {
     "data": {
      "text/html": [
       "<div>\n",
       "<style scoped>\n",
       "    .dataframe tbody tr th:only-of-type {\n",
       "        vertical-align: middle;\n",
       "    }\n",
       "\n",
       "    .dataframe tbody tr th {\n",
       "        vertical-align: top;\n",
       "    }\n",
       "\n",
       "    .dataframe thead th {\n",
       "        text-align: right;\n",
       "    }\n",
       "</style>\n",
       "<table border=\"1\" class=\"dataframe\">\n",
       "  <thead>\n",
       "    <tr style=\"text-align: right;\">\n",
       "      <th></th>\n",
       "      <th>mpg</th>\n",
       "      <th>cylinders</th>\n",
       "      <th>displacement</th>\n",
       "      <th>horsepower</th>\n",
       "      <th>weight</th>\n",
       "      <th>acceleration</th>\n",
       "      <th>model_year</th>\n",
       "      <th>origin</th>\n",
       "    </tr>\n",
       "  </thead>\n",
       "  <tbody>\n",
       "    <tr>\n",
       "      <th>32</th>\n",
       "      <td>25.0</td>\n",
       "      <td>4</td>\n",
       "      <td>98.0</td>\n",
       "      <td>NaN</td>\n",
       "      <td>2046</td>\n",
       "      <td>19.0</td>\n",
       "      <td>71</td>\n",
       "      <td>usa</td>\n",
       "    </tr>\n",
       "    <tr>\n",
       "      <th>126</th>\n",
       "      <td>21.0</td>\n",
       "      <td>6</td>\n",
       "      <td>200.0</td>\n",
       "      <td>NaN</td>\n",
       "      <td>2875</td>\n",
       "      <td>17.0</td>\n",
       "      <td>74</td>\n",
       "      <td>usa</td>\n",
       "    </tr>\n",
       "    <tr>\n",
       "      <th>330</th>\n",
       "      <td>40.9</td>\n",
       "      <td>4</td>\n",
       "      <td>85.0</td>\n",
       "      <td>NaN</td>\n",
       "      <td>1835</td>\n",
       "      <td>17.3</td>\n",
       "      <td>80</td>\n",
       "      <td>europe</td>\n",
       "    </tr>\n",
       "    <tr>\n",
       "      <th>336</th>\n",
       "      <td>23.6</td>\n",
       "      <td>4</td>\n",
       "      <td>140.0</td>\n",
       "      <td>NaN</td>\n",
       "      <td>2905</td>\n",
       "      <td>14.3</td>\n",
       "      <td>80</td>\n",
       "      <td>usa</td>\n",
       "    </tr>\n",
       "    <tr>\n",
       "      <th>354</th>\n",
       "      <td>34.5</td>\n",
       "      <td>4</td>\n",
       "      <td>100.0</td>\n",
       "      <td>NaN</td>\n",
       "      <td>2320</td>\n",
       "      <td>15.8</td>\n",
       "      <td>81</td>\n",
       "      <td>europe</td>\n",
       "    </tr>\n",
       "    <tr>\n",
       "      <th>374</th>\n",
       "      <td>23.0</td>\n",
       "      <td>4</td>\n",
       "      <td>151.0</td>\n",
       "      <td>NaN</td>\n",
       "      <td>3035</td>\n",
       "      <td>20.5</td>\n",
       "      <td>82</td>\n",
       "      <td>usa</td>\n",
       "    </tr>\n",
       "  </tbody>\n",
       "</table>\n",
       "</div>"
      ],
      "text/plain": [
       "      mpg  cylinders  displacement  horsepower  weight  acceleration  \\\n",
       "32   25.0          4          98.0         NaN    2046          19.0   \n",
       "126  21.0          6         200.0         NaN    2875          17.0   \n",
       "330  40.9          4          85.0         NaN    1835          17.3   \n",
       "336  23.6          4         140.0         NaN    2905          14.3   \n",
       "354  34.5          4         100.0         NaN    2320          15.8   \n",
       "374  23.0          4         151.0         NaN    3035          20.5   \n",
       "\n",
       "     model_year  origin  \n",
       "32           71     usa  \n",
       "126          74     usa  \n",
       "330          80  europe  \n",
       "336          80     usa  \n",
       "354          81  europe  \n",
       "374          82     usa  "
      ]
     },
     "execution_count": 22,
     "metadata": {},
     "output_type": "execute_result"
    }
   ],
   "source": [
    "df.query(\"horsepower.isna()\")\n",
    "# Exercise: impute the values "
   ]
  },
  {
   "cell_type": "code",
   "execution_count": 23,
   "metadata": {},
   "outputs": [
    {
     "name": "stdout",
     "output_type": "stream",
     "text": [
      "<class 'pandas.core.frame.DataFrame'>\n",
      "Int64Index: 392 entries, 0 to 397\n",
      "Data columns (total 8 columns):\n",
      " #   Column        Non-Null Count  Dtype  \n",
      "---  ------        --------------  -----  \n",
      " 0   mpg           392 non-null    float64\n",
      " 1   cylinders     392 non-null    int64  \n",
      " 2   displacement  392 non-null    float64\n",
      " 3   horsepower    392 non-null    float64\n",
      " 4   weight        392 non-null    int64  \n",
      " 5   acceleration  392 non-null    float64\n",
      " 6   model_year    392 non-null    int64  \n",
      " 7   origin        392 non-null    object \n",
      "dtypes: float64(4), int64(3), object(1)\n",
      "memory usage: 27.6+ KB\n"
     ]
    }
   ],
   "source": [
    "df.dropna(axis = 0, inplace = True)\n",
    "df.info()"
   ]
  },
  {
   "cell_type": "code",
   "execution_count": 24,
   "metadata": {},
   "outputs": [
    {
     "data": {
      "image/png": "[encoded data removed]",
      "text/plain": [
       "<Figure size 432x288 with 1 Axes>"
      ]
     },
     "metadata": {
      "needs_background": "light"
     },
     "output_type": "display_data"
    }
   ],
   "source": [
    "df[\"model_year\"].value_counts().sort_index().plot(kind = \"bar\", title = \"Model year\");"
   ]
  },
  {
   "cell_type": "code",
   "execution_count": 25,
   "metadata": {},
   "outputs": [
    {
     "data": {
      "text/html": [
       "<div>\n",
       "<style scoped>\n",
       "    .dataframe tbody tr th:only-of-type {\n",
       "        vertical-align: middle;\n",
       "    }\n",
       "\n",
       "    .dataframe tbody tr th {\n",
       "        vertical-align: top;\n",
       "    }\n",
       "\n",
       "    .dataframe thead th {\n",
       "        text-align: right;\n",
       "    }\n",
       "</style>\n",
       "<table border=\"1\" class=\"dataframe\">\n",
       "  <thead>\n",
       "    <tr style=\"text-align: right;\">\n",
       "      <th></th>\n",
       "      <th>mpg</th>\n",
       "      <th>cylinders</th>\n",
       "      <th>displacement</th>\n",
       "      <th>horsepower</th>\n",
       "      <th>weight</th>\n",
       "      <th>acceleration</th>\n",
       "      <th>model_year</th>\n",
       "      <th>origin</th>\n",
       "    </tr>\n",
       "  </thead>\n",
       "  <tbody>\n",
       "    <tr>\n",
       "      <th>0</th>\n",
       "      <td>18.0</td>\n",
       "      <td>8</td>\n",
       "      <td>307.0</td>\n",
       "      <td>130.0</td>\n",
       "      <td>3504</td>\n",
       "      <td>12.0</td>\n",
       "      <td>(69, 73]</td>\n",
       "      <td>usa</td>\n",
       "    </tr>\n",
       "    <tr>\n",
       "      <th>1</th>\n",
       "      <td>15.0</td>\n",
       "      <td>8</td>\n",
       "      <td>350.0</td>\n",
       "      <td>165.0</td>\n",
       "      <td>3693</td>\n",
       "      <td>11.5</td>\n",
       "      <td>(69, 73]</td>\n",
       "      <td>usa</td>\n",
       "    </tr>\n",
       "    <tr>\n",
       "      <th>2</th>\n",
       "      <td>18.0</td>\n",
       "      <td>8</td>\n",
       "      <td>318.0</td>\n",
       "      <td>150.0</td>\n",
       "      <td>3436</td>\n",
       "      <td>11.0</td>\n",
       "      <td>(69, 73]</td>\n",
       "      <td>usa</td>\n",
       "    </tr>\n",
       "    <tr>\n",
       "      <th>3</th>\n",
       "      <td>16.0</td>\n",
       "      <td>8</td>\n",
       "      <td>304.0</td>\n",
       "      <td>150.0</td>\n",
       "      <td>3433</td>\n",
       "      <td>12.0</td>\n",
       "      <td>(69, 73]</td>\n",
       "      <td>usa</td>\n",
       "    </tr>\n",
       "    <tr>\n",
       "      <th>4</th>\n",
       "      <td>17.0</td>\n",
       "      <td>8</td>\n",
       "      <td>302.0</td>\n",
       "      <td>140.0</td>\n",
       "      <td>3449</td>\n",
       "      <td>10.5</td>\n",
       "      <td>(69, 73]</td>\n",
       "      <td>usa</td>\n",
       "    </tr>\n",
       "  </tbody>\n",
       "</table>\n",
       "</div>"
      ],
      "text/plain": [
       "    mpg  cylinders  displacement  horsepower  weight  acceleration model_year  \\\n",
       "0  18.0          8         307.0       130.0    3504          12.0   (69, 73]   \n",
       "1  15.0          8         350.0       165.0    3693          11.5   (69, 73]   \n",
       "2  18.0          8         318.0       150.0    3436          11.0   (69, 73]   \n",
       "3  16.0          8         304.0       150.0    3433          12.0   (69, 73]   \n",
       "4  17.0          8         302.0       140.0    3449          10.5   (69, 73]   \n",
       "\n",
       "  origin  \n",
       "0    usa  \n",
       "1    usa  \n",
       "2    usa  \n",
       "3    usa  \n",
       "4    usa  "
      ]
     },
     "execution_count": 25,
     "metadata": {},
     "output_type": "execute_result"
    }
   ],
   "source": [
    "bins = pd.IntervalIndex.from_tuples([(69, 73), (74,77), (78,82)])\n",
    "df[\"model_year\"] = pd.cut(df[\"model_year\"], bins = bins)\n",
    "df.head()"
   ]
  },
  {
   "cell_type": "code",
   "execution_count": 26,
   "metadata": {},
   "outputs": [
    {
     "data": {
      "text/html": [
       "<div>\n",
       "<style scoped>\n",
       "    .dataframe tbody tr th:only-of-type {\n",
       "        vertical-align: middle;\n",
       "    }\n",
       "\n",
       "    .dataframe tbody tr th {\n",
       "        vertical-align: top;\n",
       "    }\n",
       "\n",
       "    .dataframe thead th {\n",
       "        text-align: right;\n",
       "    }\n",
       "</style>\n",
       "<table border=\"1\" class=\"dataframe\">\n",
       "  <thead>\n",
       "    <tr style=\"text-align: right;\">\n",
       "      <th></th>\n",
       "      <th>mpg</th>\n",
       "      <th>cylinders</th>\n",
       "      <th>displacement</th>\n",
       "      <th>horsepower</th>\n",
       "      <th>weight</th>\n",
       "      <th>acceleration</th>\n",
       "      <th>model_year_(74, 77]</th>\n",
       "      <th>model_year_(78, 82]</th>\n",
       "      <th>origin_japan</th>\n",
       "      <th>origin_usa</th>\n",
       "    </tr>\n",
       "  </thead>\n",
       "  <tbody>\n",
       "    <tr>\n",
       "      <th>0</th>\n",
       "      <td>18.0</td>\n",
       "      <td>8</td>\n",
       "      <td>307.0</td>\n",
       "      <td>130.0</td>\n",
       "      <td>3504</td>\n",
       "      <td>12.0</td>\n",
       "      <td>0</td>\n",
       "      <td>0</td>\n",
       "      <td>0</td>\n",
       "      <td>1</td>\n",
       "    </tr>\n",
       "    <tr>\n",
       "      <th>1</th>\n",
       "      <td>15.0</td>\n",
       "      <td>8</td>\n",
       "      <td>350.0</td>\n",
       "      <td>165.0</td>\n",
       "      <td>3693</td>\n",
       "      <td>11.5</td>\n",
       "      <td>0</td>\n",
       "      <td>0</td>\n",
       "      <td>0</td>\n",
       "      <td>1</td>\n",
       "    </tr>\n",
       "    <tr>\n",
       "      <th>2</th>\n",
       "      <td>18.0</td>\n",
       "      <td>8</td>\n",
       "      <td>318.0</td>\n",
       "      <td>150.0</td>\n",
       "      <td>3436</td>\n",
       "      <td>11.0</td>\n",
       "      <td>0</td>\n",
       "      <td>0</td>\n",
       "      <td>0</td>\n",
       "      <td>1</td>\n",
       "    </tr>\n",
       "    <tr>\n",
       "      <th>3</th>\n",
       "      <td>16.0</td>\n",
       "      <td>8</td>\n",
       "      <td>304.0</td>\n",
       "      <td>150.0</td>\n",
       "      <td>3433</td>\n",
       "      <td>12.0</td>\n",
       "      <td>0</td>\n",
       "      <td>0</td>\n",
       "      <td>0</td>\n",
       "      <td>1</td>\n",
       "    </tr>\n",
       "    <tr>\n",
       "      <th>4</th>\n",
       "      <td>17.0</td>\n",
       "      <td>8</td>\n",
       "      <td>302.0</td>\n",
       "      <td>140.0</td>\n",
       "      <td>3449</td>\n",
       "      <td>10.5</td>\n",
       "      <td>0</td>\n",
       "      <td>0</td>\n",
       "      <td>0</td>\n",
       "      <td>1</td>\n",
       "    </tr>\n",
       "  </tbody>\n",
       "</table>\n",
       "</div>"
      ],
      "text/plain": [
       "    mpg  cylinders  displacement  horsepower  weight  acceleration  \\\n",
       "0  18.0          8         307.0       130.0    3504          12.0   \n",
       "1  15.0          8         350.0       165.0    3693          11.5   \n",
       "2  18.0          8         318.0       150.0    3436          11.0   \n",
       "3  16.0          8         304.0       150.0    3433          12.0   \n",
       "4  17.0          8         302.0       140.0    3449          10.5   \n",
       "\n",
       "   model_year_(74, 77]  model_year_(78, 82]  origin_japan  origin_usa  \n",
       "0                    0                    0             0           1  \n",
       "1                    0                    0             0           1  \n",
       "2                    0                    0             0           1  \n",
       "3                    0                    0             0           1  \n",
       "4                    0                    0             0           1  "
      ]
     },
     "execution_count": 26,
     "metadata": {},
     "output_type": "execute_result"
    }
   ],
   "source": [
    "df = pd.get_dummies(df, columns=[\"model_year\", \"origin\"], drop_first=True)\n",
    "df.head()"
   ]
  },
  {
   "cell_type": "markdown",
   "metadata": {},
   "source": [
    "### Train|test-split"
   ]
  },
  {
   "cell_type": "code",
   "execution_count": 27,
   "metadata": {},
   "outputs": [
    {
     "data": {
      "text/plain": [
       "((274, 9), (118, 9))"
      ]
     },
     "execution_count": 27,
     "metadata": {},
     "output_type": "execute_result"
    }
   ],
   "source": [
    "from sklearn.model_selection import train_test_split\n",
    "from sklearn.preprocessing import StandardScaler\n",
    "\n",
    "# pick out values, i.e. numpy arrays and not DataFrame or Series\n",
    "X, y = df.drop(\"mpg\", axis = 1).values, df[\"mpg\"].values\n",
    "\n",
    "X_train, X_test, y_train, y_test = train_test_split(X, y, test_size=0.3, random_state=42)\n",
    "scaler = StandardScaler()\n",
    "\n",
    "scaled_X_train = scaler.fit_transform(X_train)\n",
    "scaled_X_test = scaler.transform(X_test)\n",
    "\n",
    "scaled_X_train.shape, scaled_X_test.shape"
   ]
  },
  {
   "cell_type": "markdown",
   "metadata": {},
   "source": [
    "### Multiple linear regression"
   ]
  },
  {
   "cell_type": "code",
   "execution_count": 28,
   "metadata": {},
   "outputs": [
    {
     "data": {
      "text/plain": [
       "(23.637591240875913,\n",
       " array([-0.07963534,  0.71698622, -1.5802261 , -4.49219087, -0.08849455,\n",
       "         0.36793355,  2.76523073,  0.02957218, -1.25074873]))"
      ]
     },
     "execution_count": 28,
     "metadata": {},
     "output_type": "execute_result"
    }
   ],
   "source": [
    "from sklearn.linear_model import LinearRegression\n",
    "\n",
    "model_lin_reg = LinearRegression()\n",
    "model_lin_reg.fit(scaled_X_train, y_train)\n",
    "\n",
    "intercept, coefficients = model_lin_reg.intercept_, model_lin_reg.coef_\n",
    "\n",
    "intercept, coefficients"
   ]
  },
  {
   "cell_type": "markdown",
   "metadata": {},
   "source": [
    "### Artificial Neural Network (ANN)\n",
    "- shallow MLP"
   ]
  },
  {
   "cell_type": "code",
   "execution_count": 29,
   "metadata": {},
   "outputs": [
    {
     "name": "stdout",
     "output_type": "stream",
     "text": [
      "Model: \"Shallow_network\"\n",
      "_________________________________________________________________\n",
      " Layer (type)                Output Shape              Param #   \n",
      "=================================================================\n",
      " Output_layer (Dense)        (None, 1)                 10        \n",
      "                                                                 \n",
      "=================================================================\n",
      "Total params: 10\n",
      "Trainable params: 10\n",
      "Non-trainable params: 0\n",
      "_________________________________________________________________\n"
     ]
    }
   ],
   "source": [
    "from tensorflow.keras import Sequential\n",
    "from tensorflow.keras.layers import Dense, InputLayer\n",
    "from tensorflow.keras.optimizers import SGD\n",
    "\n",
    "model_shallow = Sequential(name = \"Shallow_network\")\n",
    "model_shallow.add(InputLayer(X_train.shape[1]))\n",
    "model_shallow.add(Dense(1, name = \"Output_layer\")) # note no activation function --> linear activation\n",
    "model_shallow.compile(loss = \"mean_squared_error\", optimizer=SGD(learning_rate=.01))\n",
    "model_shallow.summary()"
   ]
  },
  {
   "cell_type": "code",
   "execution_count": 30,
   "metadata": {},
   "outputs": [
    {
     "name": "stdout",
     "output_type": "stream",
     "text": [
      "Epoch 1/50\n",
      "9/9 [==============================] - 0s 18ms/step - loss: 522.2190 - val_loss: 376.7207\n",
      "Epoch 2/50\n",
      "9/9 [==============================] - 0s 6ms/step - loss: 354.4802 - val_loss: 257.2733\n",
      "Epoch 3/50\n",
      "9/9 [==============================] - 0s 6ms/step - loss: 249.1469 - val_loss: 178.0111\n",
      "Epoch 4/50\n",
      "9/9 [==============================] - 0s 6ms/step - loss: 176.6168 - val_loss: 124.1228\n",
      "Epoch 5/50\n",
      "9/9 [==============================] - 0s 6ms/step - loss: 127.1229 - val_loss: 86.3516\n",
      "Epoch 6/50\n",
      "9/9 [==============================] - 0s 5ms/step - loss: 91.2674 - val_loss: 61.2702\n",
      "Epoch 7/50\n",
      "9/9 [==============================] - 0s 5ms/step - loss: 67.3138 - val_loss: 43.9576\n",
      "Epoch 8/50\n",
      "9/9 [==============================] - 0s 5ms/step - loss: 50.4468 - val_loss: 32.2203\n",
      "Epoch 9/50\n",
      "9/9 [==============================] - 0s 6ms/step - loss: 38.7651 - val_loss: 24.5121\n",
      "Epoch 10/50\n",
      "9/9 [==============================] - 0s 5ms/step - loss: 30.7303 - val_loss: 19.2315\n",
      "Epoch 11/50\n",
      "9/9 [==============================] - 0s 5ms/step - loss: 25.0852 - val_loss: 15.6515\n",
      "Epoch 12/50\n",
      "9/9 [==============================] - 0s 5ms/step - loss: 21.1262 - val_loss: 13.4249\n",
      "Epoch 13/50\n",
      "9/9 [==============================] - 0s 5ms/step - loss: 18.3088 - val_loss: 11.9014\n",
      "Epoch 14/50\n",
      "9/9 [==============================] - 0s 5ms/step - loss: 16.3920 - val_loss: 10.8017\n",
      "Epoch 15/50\n",
      "9/9 [==============================] - 0s 5ms/step - loss: 15.1019 - val_loss: 10.2215\n",
      "Epoch 16/50\n",
      "9/9 [==============================] - 0s 5ms/step - loss: 14.0755 - val_loss: 9.8830\n",
      "Epoch 17/50\n",
      "9/9 [==============================] - 0s 5ms/step - loss: 13.4244 - val_loss: 9.8025\n",
      "Epoch 18/50\n",
      "9/9 [==============================] - 0s 5ms/step - loss: 13.0085 - val_loss: 9.7931\n",
      "Epoch 19/50\n",
      "9/9 [==============================] - 0s 5ms/step - loss: 12.6261 - val_loss: 9.7289\n",
      "Epoch 20/50\n",
      "9/9 [==============================] - 0s 5ms/step - loss: 12.3673 - val_loss: 9.8195\n",
      "Epoch 21/50\n",
      "9/9 [==============================] - 0s 5ms/step - loss: 12.1936 - val_loss: 9.8538\n",
      "Epoch 22/50\n",
      "9/9 [==============================] - 0s 5ms/step - loss: 12.0386 - val_loss: 9.9625\n",
      "Epoch 23/50\n",
      "9/9 [==============================] - 0s 5ms/step - loss: 11.9761 - val_loss: 10.0874\n",
      "Epoch 24/50\n",
      "9/9 [==============================] - 0s 7ms/step - loss: 11.8878 - val_loss: 10.0825\n",
      "Epoch 25/50\n",
      "9/9 [==============================] - 0s 5ms/step - loss: 11.8035 - val_loss: 9.9546\n",
      "Epoch 26/50\n",
      "9/9 [==============================] - 0s 5ms/step - loss: 11.7984 - val_loss: 9.9159\n",
      "Epoch 27/50\n",
      "9/9 [==============================] - 0s 5ms/step - loss: 11.7527 - val_loss: 10.0740\n",
      "Epoch 28/50\n",
      "9/9 [==============================] - 0s 5ms/step - loss: 11.7221 - val_loss: 9.9271\n",
      "Epoch 29/50\n",
      "9/9 [==============================] - 0s 5ms/step - loss: 11.6945 - val_loss: 9.9543\n",
      "Epoch 30/50\n",
      "9/9 [==============================] - 0s 5ms/step - loss: 11.6589 - val_loss: 10.0854\n",
      "Epoch 31/50\n",
      "9/9 [==============================] - 0s 5ms/step - loss: 11.6484 - val_loss: 10.0411\n",
      "Epoch 32/50\n",
      "9/9 [==============================] - 0s 6ms/step - loss: 11.6196 - val_loss: 10.1575\n",
      "Epoch 33/50\n",
      "9/9 [==============================] - 0s 5ms/step - loss: 11.5949 - val_loss: 10.2646\n",
      "Epoch 34/50\n",
      "9/9 [==============================] - 0s 5ms/step - loss: 11.6238 - val_loss: 10.1084\n",
      "Epoch 35/50\n",
      "9/9 [==============================] - 0s 5ms/step - loss: 11.5511 - val_loss: 10.1027\n",
      "Epoch 36/50\n",
      "9/9 [==============================] - 0s 6ms/step - loss: 11.5537 - val_loss: 10.0912\n",
      "Epoch 37/50\n",
      "9/9 [==============================] - 0s 8ms/step - loss: 11.5441 - val_loss: 10.0444\n",
      "Epoch 38/50\n",
      "9/9 [==============================] - 0s 7ms/step - loss: 11.5449 - val_loss: 10.0522\n",
      "Epoch 39/50\n",
      "9/9 [==============================] - 0s 6ms/step - loss: 11.5078 - val_loss: 10.2076\n",
      "Epoch 40/50\n",
      "9/9 [==============================] - 0s 6ms/step - loss: 11.4953 - val_loss: 10.0973\n",
      "Epoch 41/50\n",
      "9/9 [==============================] - 0s 5ms/step - loss: 11.5096 - val_loss: 10.2486\n",
      "Epoch 42/50\n",
      "9/9 [==============================] - 0s 5ms/step - loss: 11.5418 - val_loss: 10.1669\n",
      "Epoch 43/50\n",
      "9/9 [==============================] - 0s 5ms/step - loss: 11.4537 - val_loss: 10.1996\n",
      "Epoch 44/50\n",
      "9/9 [==============================] - 0s 5ms/step - loss: 11.4527 - val_loss: 10.2933\n",
      "Epoch 45/50\n",
      "9/9 [==============================] - 0s 5ms/step - loss: 11.4723 - val_loss: 10.3795\n",
      "Epoch 46/50\n",
      "9/9 [==============================] - 0s 5ms/step - loss: 11.4639 - val_loss: 10.4249\n",
      "Epoch 47/50\n",
      "9/9 [==============================] - 0s 6ms/step - loss: 11.4569 - val_loss: 10.5261\n",
      "Epoch 48/50\n",
      "9/9 [==============================] - 0s 6ms/step - loss: 11.4191 - val_loss: 10.4546\n",
      "Epoch 49/50\n",
      "9/9 [==============================] - 0s 6ms/step - loss: 11.3945 - val_loss: 10.2823\n",
      "Epoch 50/50\n",
      "9/9 [==============================] - 0s 7ms/step - loss: 11.4316 - val_loss: 10.1493\n"
     ]
    },
    {
     "data": {
      "text/plain": [
       "<keras.callbacks.History at 0x1f1ee2cb190>"
      ]
     },
     "execution_count": 30,
     "metadata": {},
     "output_type": "execute_result"
    }
   ],
   "source": [
    "model_shallow.fit(scaled_X_train, y_train, epochs=50,\n",
    "                  verbose=1, validation_data=(scaled_X_test, y_test))"
   ]
  },
  {
   "cell_type": "code",
   "execution_count": 31,
   "metadata": {},
   "outputs": [
    {
     "data": {
      "text/html": [
       "<div>\n",
       "<style scoped>\n",
       "    .dataframe tbody tr th:only-of-type {\n",
       "        vertical-align: middle;\n",
       "    }\n",
       "\n",
       "    .dataframe tbody tr th {\n",
       "        vertical-align: top;\n",
       "    }\n",
       "\n",
       "    .dataframe thead th {\n",
       "        text-align: right;\n",
       "    }\n",
       "</style>\n",
       "<table border=\"1\" class=\"dataframe\">\n",
       "  <thead>\n",
       "    <tr style=\"text-align: right;\">\n",
       "      <th></th>\n",
       "      <th>loss</th>\n",
       "      <th>val_loss</th>\n",
       "    </tr>\n",
       "  </thead>\n",
       "  <tbody>\n",
       "    <tr>\n",
       "      <th>0</th>\n",
       "      <td>522.218994</td>\n",
       "      <td>376.720734</td>\n",
       "    </tr>\n",
       "    <tr>\n",
       "      <th>1</th>\n",
       "      <td>354.480194</td>\n",
       "      <td>257.273346</td>\n",
       "    </tr>\n",
       "    <tr>\n",
       "      <th>2</th>\n",
       "      <td>249.146927</td>\n",
       "      <td>178.011108</td>\n",
       "    </tr>\n",
       "    <tr>\n",
       "      <th>3</th>\n",
       "      <td>176.616760</td>\n",
       "      <td>124.122772</td>\n",
       "    </tr>\n",
       "    <tr>\n",
       "      <th>4</th>\n",
       "      <td>127.122864</td>\n",
       "      <td>86.351570</td>\n",
       "    </tr>\n",
       "  </tbody>\n",
       "</table>\n",
       "</div>"
      ],
      "text/plain": [
       "         loss    val_loss\n",
       "0  522.218994  376.720734\n",
       "1  354.480194  257.273346\n",
       "2  249.146927  178.011108\n",
       "3  176.616760  124.122772\n",
       "4  127.122864   86.351570"
      ]
     },
     "execution_count": 31,
     "metadata": {},
     "output_type": "execute_result"
    }
   ],
   "source": [
    "df_loss = pd.DataFrame(model_shallow.history.history)\n",
    "df_loss.head()"
   ]
  },
  {
   "cell_type": "code",
   "execution_count": 32,
   "metadata": {},
   "outputs": [
    {
     "data": {
      "text/html": [
       "<div>\n",
       "<style scoped>\n",
       "    .dataframe tbody tr th:only-of-type {\n",
       "        vertical-align: middle;\n",
       "    }\n",
       "\n",
       "    .dataframe tbody tr th {\n",
       "        vertical-align: top;\n",
       "    }\n",
       "\n",
       "    .dataframe thead th {\n",
       "        text-align: right;\n",
       "    }\n",
       "</style>\n",
       "<table border=\"1\" class=\"dataframe\">\n",
       "  <thead>\n",
       "    <tr style=\"text-align: right;\">\n",
       "      <th></th>\n",
       "      <th>loss</th>\n",
       "      <th>val_loss</th>\n",
       "    </tr>\n",
       "  </thead>\n",
       "  <tbody>\n",
       "    <tr>\n",
       "      <th>1</th>\n",
       "      <td>522.218994</td>\n",
       "      <td>376.720734</td>\n",
       "    </tr>\n",
       "    <tr>\n",
       "      <th>2</th>\n",
       "      <td>354.480194</td>\n",
       "      <td>257.273346</td>\n",
       "    </tr>\n",
       "    <tr>\n",
       "      <th>3</th>\n",
       "      <td>249.146927</td>\n",
       "      <td>178.011108</td>\n",
       "    </tr>\n",
       "    <tr>\n",
       "      <th>4</th>\n",
       "      <td>176.616760</td>\n",
       "      <td>124.122772</td>\n",
       "    </tr>\n",
       "    <tr>\n",
       "      <th>5</th>\n",
       "      <td>127.122864</td>\n",
       "      <td>86.351570</td>\n",
       "    </tr>\n",
       "  </tbody>\n",
       "</table>\n",
       "</div>"
      ],
      "text/plain": [
       "         loss    val_loss\n",
       "1  522.218994  376.720734\n",
       "2  354.480194  257.273346\n",
       "3  249.146927  178.011108\n",
       "4  176.616760  124.122772\n",
       "5  127.122864   86.351570"
      ]
     },
     "execution_count": 32,
     "metadata": {},
     "output_type": "execute_result"
    }
   ],
   "source": [
    "df_loss.index = range(1, len(df_loss)+1)\n",
    "df_loss.head()"
   ]
  },
  {
   "cell_type": "code",
   "execution_count": 33,
   "metadata": {},
   "outputs": [
    {
     "data": {
      "text/plain": [
       "<AxesSubplot:xlabel='Epochs', ylabel='MSE loss'>"
      ]
     },
     "execution_count": 33,
     "metadata": {},
     "output_type": "execute_result"
    },
    {
     "data": {
      "image/png": "[encoded data removed]",
      "text/plain": [
       "<Figure size 432x288 with 1 Axes>"
      ]
     },
     "metadata": {
      "needs_background": "light"
     },
     "output_type": "display_data"
    }
   ],
   "source": [
    "df_loss.plot(xlabel = \"Epochs\", ylabel = \"MSE loss\")"
   ]
  },
  {
   "cell_type": "code",
   "execution_count": 34,
   "metadata": {},
   "outputs": [
    {
     "name": "stdout",
     "output_type": "stream",
     "text": [
      "Linear reg: intercept=23.637591240875913, coefficients=array([-0.07963534,  0.71698622, -1.5802261 , -4.49219087, -0.08849455,\n",
      "        0.36793355,  2.76523073,  0.02957218, -1.25074873])\n",
      "ANN bias=array([23.640562], dtype=float32), weights=array([[ 0.06707539],\n",
      "       [-1.2667272 ],\n",
      "       [-1.41806   ],\n",
      "       [-3.022864  ],\n",
      "       [-0.2906736 ],\n",
      "       [ 0.28353673],\n",
      "       [ 2.6362498 ],\n",
      "       [ 0.23147716],\n",
      "       [-0.8805538 ]], dtype=float32)\n"
     ]
    }
   ],
   "source": [
    "weights, bias = model_shallow.layers[0].get_weights()\n",
    "\n",
    "print(f\"Linear reg: {intercept=}, {coefficients=}\")\n",
    "print(f\"ANN {bias=}, {weights=}\")"
   ]
  },
  {
   "cell_type": "markdown",
   "metadata": {},
   "source": [
    "### Prediction and evaluation"
   ]
  },
  {
   "cell_type": "code",
   "execution_count": 35,
   "metadata": {},
   "outputs": [
    {
     "name": "stdout",
     "output_type": "stream",
     "text": [
      "MAE, RMSE for ANN:\n",
      "2.5363816924014326 3.1857936056436635\n",
      "MAE, RMSE for linear regression:\n",
      "2.52233354282375 3.1212202349360934\n"
     ]
    }
   ],
   "source": [
    "from sklearn.metrics import mean_absolute_error, mean_squared_error\n",
    "\n",
    "y_pred_ANN = model_shallow.predict(scaled_X_test)\n",
    "y_pred_lin_reg = model_lin_reg.predict(scaled_X_test)\n",
    "\n",
    "print(\"MAE, RMSE for ANN:\")\n",
    "print(mean_absolute_error(y_test, y_pred_ANN), np.sqrt(mean_squared_error(y_test, y_pred_ANN)))\n",
    "\n",
    "print(\"MAE, RMSE for linear regression:\")\n",
    "print(mean_absolute_error(y_test, y_pred_lin_reg), np.sqrt(mean_squared_error(y_test, y_pred_lin_reg)))"
   ]
  }
 ],
 "metadata": {
  "interpreter": {
   "hash": "5b3b2fba686c6cebd0bcee905b7e93a6283094464da763c26b53f9045e5e6e3d"
  },
  "kernelspec": {
   "display_name": "Python 3.9.6 ('Deep_learning_Marie_Jonsson-pczpY8jA')",
   "language": "python",
   "name": "python3"
  },
  "language_info": {
   "codemirror_mode": {
    "name": "ipython",
    "version": 3
   },
   "file_extension": ".py",
   "mimetype": "text/x-python",
   "name": "python",
   "nbconvert_exporter": "python",
   "pygments_lexer": "ipython3",
   "version": "3.9.6"
  },
  "orig_nbformat": 4
 },
 "nbformat": 4,
 "nbformat_minor": 2
}
